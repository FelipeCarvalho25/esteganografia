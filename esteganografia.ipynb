{
  "nbformat": 4,
  "nbformat_minor": 0,
  "metadata": {
    "colab": {
      "provenance": []
    },
    "kernelspec": {
      "name": "python3",
      "display_name": "Python 3"
    }
  },
  "cells": [
    {
      "cell_type": "markdown",
      "metadata": {
        "id": "cTDLhSsPeSHe"
      },
      "source": [
        "João Felipe B. C. Carvalho\n",
        "\n"
      ]
    },
    {
      "cell_type": "markdown",
      "metadata": {
        "id": "F_nc4H7675ZK"
      },
      "source": [
        "Enunciado do trabalho:\n",
        "\n",
        "O objetivo é trabalhar com esteganografia em imagens. Dada uma imagem, devem ser implementados os algoritmos para esconder uma mensagem e para ler uma mensagem escondida.\n",
        "\n",
        "Essa mensagem deve ser escondida no último bit da cor azul (não precisa trabalhar com binários, somente com valores pares e ímpares) e deve ser retirada uma mensagem de lá.\n",
        "\n",
        "Precisam ser criadas duas funções: uma que crie uma lista de inteiros (com valores de 0 ou 1) composta pelos últimos dígitos da cor azul da imagem; a outra função dever receber uma lista de inteiros como parâmetro e alterar o último bit da cor azul da imagem para cada elemento. Lembre-se que a lista não vai ser grande o suficiente para toda a imagem, então altere a imagem só até a mensagem terminar.\n",
        "\n",
        "Não precisam se preocupar com a conversão da mensagem de texto para a lista de bits e nem o contrário, abaixo já existem essas duas funções prontas: `gerar_mensagem()` recebe uma string por parâmetro e gera uma lista de inteiros e `converter_mensagem()` recebe uma lista de inteiros e gera uma mensagem."
      ]
    },
    {
      "cell_type": "code",
      "metadata": {
        "id": "X71f4CHS7tdo"
      },
      "source": [
        "\n",
        "import numpy as np\n",
        "import cv2 as cv\n",
        "import matplotlib.pyplot as plt\n",
        "import matplotlib.image as mpimg\n",
        "from PIL import Image\n",
        "from google.colab.patches import cv2_imshow\n",
        "import os"
      ],
      "execution_count": null,
      "outputs": []
    },
    {
      "cell_type": "code",
      "metadata": {
        "id": "ZbxdytFo83mW"
      },
      "source": [
        "import numpy as np\n",
        "import cv2 as cv\n",
        "def bitfield(n):\n",
        "    return [int(digit) for digit in bin(n)[2:]]\n",
        "\n",
        "def gerar_mensagem(mensagem):\n",
        "    lista = []\n",
        "    for m in mensagem:\n",
        "        val = ord(m)\n",
        "        bits = bitfield(val)\n",
        "\n",
        "        if len(bits) < 8:\n",
        "            for a in range(8-len(bits)):\n",
        "                bits.insert(0,0)\n",
        "        lista.append(bits)\n",
        "    arr = np.array(lista)\n",
        "    arr = arr.flatten()\n",
        "    return arr\n",
        "\n",
        "\n",
        "def converter_mensagem(saida):\n",
        "    bits = np.array(saida)\n",
        "    mensagem_out = ''\n",
        "    msgTeste = ''\n",
        "    bits = bits.reshape((int(len(saida)/8), 8))\n",
        "    for b in bits:\n",
        "        sum = 0\n",
        "        for i in range(8):\n",
        "            sum += b[i]*(2**(7-i))\n",
        "        if sum == 0:\n",
        "            if msgTeste not in mensagem_out:\n",
        "              mensagem_out += msgTeste\n",
        "            msgTeste = ''\n",
        "        else:\n",
        "             msgTeste+= chr(sum)\n",
        "        #mensagem_out += chr(sum)\n",
        "    return mensagem_out\n",
        "\n",
        "\n",
        "def BitsAzul(img):\n",
        "    img = img\n",
        "    pic = np.array(img)\n",
        "    azul = img[:, :, 0]\n",
        "    bits = azul % 2\n",
        "    bits = bits.flatten()\n",
        "    return bits\n",
        "\n",
        "def EscondendoMensagem(Bitscod, img):\n",
        "    bits = img[:, :, 0] % 2\n",
        "    img[:, :, 0] -= bits\n",
        "    for i in range(len(Bitscod)):\n",
        "        for j in range(len(Bitscod)):\n",
        "            #print(img[i, j, 0])\n",
        "            img[i, j, 0] -= Bitscod[j]\n",
        "    if bits is not None:\n",
        "      return img\n",
        "    return None\n",
        "\n",
        "def mostrar_imagem(img):\n",
        "    plt.imshow(img)\n",
        "    plt.colorbar()\n",
        "    plt.show()\n",
        "\n",
        "def abriImagem(nome):\n",
        "  return cv.cvtColor(cv.imread(nome), cv.COLOR_BGR2RGB)\n",
        "\n",
        "def menu():\n",
        "  mensagem = \"\"\n",
        "  arquivo = input(\"Olá! Vamos brincar de incriptação?\\nOBS: Não esqueça de subir a imagem no menu arquivos à esquerda.\\nInforme o nome e extensão da imagem que deseja utilizar:\")\n",
        "  img = abriImagem(arquivo)\n",
        "  #print('\\n' * 100)\n",
        "  escolha = int(input(\"Escolha o que deseja fazer:\\n1 - Incriptar uma mmensagem\\n2 - Desemcriptar uma mensagem\\n3 - Selecionar outra imagem\\n4 - Exibir imagem atual\\n0 - Sair\\nEscolha:\"))\n",
        "  while escolha != 0:\n",
        "    #print('\\n' * 100)\n",
        "    if escolha == 1:\n",
        "      mensagem = input(\"Digite a mensagem: \")\n",
        "      mensagemCod = gerar_mensagem(mensagem)\n",
        "      #para debug descomentar\n",
        "      #print(mensagemCod)\n",
        "      imgCod = EscondendoMensagem(mensagemCod, img)\n",
        "      newEscolha = int(input(\"Deseja salvar essa imagem?\\n1 - Sim\\n2 - Não\\nEscolha:\"))\n",
        "      if newEscolha == 1:\n",
        "        nome = input(\"Informe o nome da imagem:\")+\".png\"\n",
        "        mpimg.imsave(nome, imgCod)\n",
        "        print(\"Imagem Salva.\")\n",
        "        newEscolha1 = int(input(\"Deseja utilizar essa imagem?\\n1 - Sim\\n2 - Não\\nEscolha:\"))\n",
        "        if newEscolha == 1:\n",
        "          arquivo = nome\n",
        "          img = abriImagem(arquivo)\n",
        "      else:\n",
        "        newEscolha1 = int(input(\"Deseja utilizar essa imagem?\\n1 - Sim\\n2 - Não\\nEscolha:\"))\n",
        "        if newEscolha == 1:\n",
        "          img = imgCod\n",
        "    elif escolha == 2:\n",
        "      Bits = BitsAzul(img)\n",
        "      msg = converter_mensagem(Bits)\n",
        "      print(\"A mensagem criptografada é:\" + msg +\"\\n\")\n",
        "    elif escolha == 3:\n",
        "      nome = input(\"Informe o nome da imagem e extensão:\")\n",
        "      img = abriImagem(nome)\n",
        "      print(\"Imagem Aberta.\")\n",
        "    elif escolha == 4:\n",
        "      mostrar_imagem(img)\n",
        "    escolha = int(input(\"Escolha o que deseja fazer:\\n1 - Incriptar uma mmensagem\\n2 - Desemcriptar uma mensagem\\n3 - Selecionar outra imagem\\n4 - Exibir imagem atual\\n0 - Sair\\nEscolha:\"))\n",
        "  print(\"Até a próxima!.\")\n",
        "menu()\n",
        "\n",
        "\n"
      ],
      "execution_count": null,
      "outputs": []
    }
  ]
}